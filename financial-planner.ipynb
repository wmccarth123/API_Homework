{
 "cells": [
  {
   "cell_type": "markdown",
   "metadata": {},
   "source": [
    "# Unit 5 - Financial Planning"
   ]
  },
  {
   "cell_type": "code",
   "execution_count": 1,
   "metadata": {},
   "outputs": [],
   "source": [
    "# Initial imports\n",
    "import os\n",
    "import requests\n",
    "import pandas as pd\n",
    "from dotenv import load_dotenv\n",
    "import alpaca_trade_api as tradeapi\n",
    "from MCForecastTools import MCSimulation\n",
    "import json\n",
    "\n",
    "%matplotlib inline"
   ]
  },
  {
   "cell_type": "code",
   "execution_count": 2,
   "metadata": {},
   "outputs": [
    {
     "data": {
      "text/plain": [
       "True"
      ]
     },
     "execution_count": 2,
     "metadata": {},
     "output_type": "execute_result"
    }
   ],
   "source": [
    "# Load .env enviroment variables\n",
    "load_dotenv('API.env')"
   ]
  },
  {
   "cell_type": "markdown",
   "metadata": {},
   "source": [
    "## Part 1 - Personal Finance Planner"
   ]
  },
  {
   "cell_type": "markdown",
   "metadata": {},
   "source": [
    "### Collect Crypto Prices Using the `requests` Library"
   ]
  },
  {
   "cell_type": "code",
   "execution_count": 3,
   "metadata": {},
   "outputs": [
    {
     "data": {
      "text/html": [
       "<div>\n",
       "<style scoped>\n",
       "    .dataframe tbody tr th:only-of-type {\n",
       "        vertical-align: middle;\n",
       "    }\n",
       "\n",
       "    .dataframe tbody tr th {\n",
       "        vertical-align: top;\n",
       "    }\n",
       "\n",
       "    .dataframe thead th {\n",
       "        text-align: right;\n",
       "    }\n",
       "</style>\n",
       "<table border=\"1\" class=\"dataframe\">\n",
       "  <thead>\n",
       "    <tr style=\"text-align: right;\">\n",
       "      <th></th>\n",
       "      <th>crypto assets</th>\n",
       "    </tr>\n",
       "  </thead>\n",
       "  <tbody>\n",
       "    <tr>\n",
       "      <th>BTC</th>\n",
       "      <td>1.2</td>\n",
       "    </tr>\n",
       "    <tr>\n",
       "      <th>ETH</th>\n",
       "      <td>5.3</td>\n",
       "    </tr>\n",
       "  </tbody>\n",
       "</table>\n",
       "</div>"
      ],
      "text/plain": [
       "     crypto assets\n",
       "BTC            1.2\n",
       "ETH            5.3"
      ]
     },
     "execution_count": 3,
     "metadata": {},
     "output_type": "execute_result"
    }
   ],
   "source": [
    "# Set current amount of crypto assets\n",
    "# YOUR CODE Here\n",
    "crypto_assets_data = {\n",
    "    \"crypto assets\": [1.2, 5.3]\n",
    "}\n",
    "crypto_coin = [\"BTC\", \"ETH\"]\n",
    "df_crypto = pd.DataFrame(crypto_assets_data, index=crypto_coin)\n",
    "df_crypto"
   ]
  },
  {
   "cell_type": "code",
   "execution_count": 4,
   "metadata": {},
   "outputs": [],
   "source": [
    "# Crypto API URLs\n",
    "btc_url = \"https://api.alternative.me/v2/ticker/Bitcoin/?convert=CAD\"\n",
    "eth_url = \"https://api.alternative.me/v2/ticker/Ethereum/?convert=CAD\""
   ]
  },
  {
   "cell_type": "code",
   "execution_count": 5,
   "metadata": {},
   "outputs": [
    {
     "name": "stdout",
     "output_type": "stream",
     "text": [
      "61764.0\n"
     ]
    }
   ],
   "source": [
    "# Fetch current BTC price\n",
    "BTC_data = requests.get(btc_url).json()\n",
    "BTC_price = BTC_data ['data']['1']['quotes']['USD']['price']\n",
    "print(BTC_price)"
   ]
  },
  {
   "cell_type": "code",
   "execution_count": 6,
   "metadata": {},
   "outputs": [
    {
     "name": "stdout",
     "output_type": "stream",
     "text": [
      "61764.0\n"
     ]
    }
   ],
   "source": [
    "# Fetch current ETH price\n",
    "ETH_data = requests.get(eth_url).json()\n",
    "ETH_price = BTC_data ['data']['1']['quotes']['USD']['price']\n",
    "print(ETH_price)"
   ]
  },
  {
   "cell_type": "code",
   "execution_count": 7,
   "metadata": {},
   "outputs": [
    {
     "name": "stdout",
     "output_type": "stream",
     "text": [
      "The current value of your Bitcoin BTC is $74116.80\n",
      "The current value of your Etherium ETH is $327349.20\n"
     ]
    }
   ],
   "source": [
    "# Compute current value of my crpto\n",
    "my_btc_value = BTC_price * 1.2\n",
    "my_eth_value = ETH_price * 5.3\n",
    "\n",
    "# Print current crypto wallet balance\n",
    "my_btc =\"Bitcoin\"\n",
    "my_eth = \"Etherium\"\n",
    "print(f\"The current value of your {my_btc} BTC is ${my_btc_value:0.2f}\")\n",
    "print(f\"The current value of your {my_eth} ETH is ${my_eth_value:0.2f}\")"
   ]
  },
  {
   "cell_type": "code",
   "execution_count": 8,
   "metadata": {},
   "outputs": [
    {
     "data": {
      "text/plain": [
       "401466.0"
      ]
     },
     "execution_count": 8,
     "metadata": {},
     "output_type": "execute_result"
    }
   ],
   "source": [
    "Total_Crypto_Value = my_eth_value+my_btc_value\n",
    "Total_Crypto_Value"
   ]
  },
  {
   "cell_type": "markdown",
   "metadata": {},
   "source": [
    "### Collect Investments Data Using Alpaca: `SPY` (stocks) and `AGG` (bonds)"
   ]
  },
  {
   "cell_type": "code",
   "execution_count": 9,
   "metadata": {},
   "outputs": [],
   "source": [
    "# Set current amount of shares\n",
    "my_agg = 200\n",
    "my_spy = 50"
   ]
  },
  {
   "cell_type": "code",
   "execution_count": 10,
   "metadata": {},
   "outputs": [
    {
     "name": "stdout",
     "output_type": "stream",
     "text": [
      "Alpaca Key type: <class 'str'>\n",
      "Alpaca Secret Key type: <class 'str'>\n"
     ]
    }
   ],
   "source": [
    "# Set Alpaca API key and secret\n",
    "alpaca_api_key = os.getenv(\"API_intro_KEY\")\n",
    "alpaca_secret_key = os.getenv(\"API_secret_KEY\")\n",
    "\n",
    "print(f\"Alpaca Key type: {type(alpaca_api_key)}\")\n",
    "print(f\"Alpaca Secret Key type: {type(alpaca_secret_key)}\")"
   ]
  },
  {
   "cell_type": "code",
   "execution_count": 11,
   "metadata": {},
   "outputs": [],
   "source": [
    "# Create the Alpaca API object\n",
    "crypto = tradeapi.REST(\n",
    "    alpaca_api_key,\n",
    "    alpaca_secret_key,\n",
    "    api_version=\"v2\"\n",
    ")\n"
   ]
  },
  {
   "cell_type": "code",
   "execution_count": 12,
   "metadata": {},
   "outputs": [
    {
     "data": {
      "text/html": [
       "<div>\n",
       "<style scoped>\n",
       "    .dataframe tbody tr th:only-of-type {\n",
       "        vertical-align: middle;\n",
       "    }\n",
       "\n",
       "    .dataframe tbody tr th {\n",
       "        vertical-align: top;\n",
       "    }\n",
       "\n",
       "    .dataframe thead tr th {\n",
       "        text-align: left;\n",
       "    }\n",
       "\n",
       "    .dataframe thead tr:last-of-type th {\n",
       "        text-align: right;\n",
       "    }\n",
       "</style>\n",
       "<table border=\"1\" class=\"dataframe\">\n",
       "  <thead>\n",
       "    <tr>\n",
       "      <th></th>\n",
       "      <th colspan=\"5\" halign=\"left\">AGG</th>\n",
       "      <th colspan=\"5\" halign=\"left\">SPY</th>\n",
       "    </tr>\n",
       "    <tr>\n",
       "      <th></th>\n",
       "      <th>open</th>\n",
       "      <th>high</th>\n",
       "      <th>low</th>\n",
       "      <th>close</th>\n",
       "      <th>volume</th>\n",
       "      <th>open</th>\n",
       "      <th>high</th>\n",
       "      <th>low</th>\n",
       "      <th>close</th>\n",
       "      <th>volume</th>\n",
       "    </tr>\n",
       "    <tr>\n",
       "      <th>time</th>\n",
       "      <th></th>\n",
       "      <th></th>\n",
       "      <th></th>\n",
       "      <th></th>\n",
       "      <th></th>\n",
       "      <th></th>\n",
       "      <th></th>\n",
       "      <th></th>\n",
       "      <th></th>\n",
       "      <th></th>\n",
       "    </tr>\n",
       "  </thead>\n",
       "  <tbody>\n",
       "    <tr>\n",
       "      <th>2021-01-20 00:00:00-05:00</th>\n",
       "      <td>117.35</td>\n",
       "      <td>117.4300</td>\n",
       "      <td>117.3100</td>\n",
       "      <td>117.40</td>\n",
       "      <td>3877734</td>\n",
       "      <td>381.11</td>\n",
       "      <td>384.7900</td>\n",
       "      <td>380.690</td>\n",
       "      <td>383.86</td>\n",
       "      <td>53064901</td>\n",
       "    </tr>\n",
       "    <tr>\n",
       "      <th>2021-01-21 00:00:00-05:00</th>\n",
       "      <td>117.22</td>\n",
       "      <td>117.2985</td>\n",
       "      <td>117.1400</td>\n",
       "      <td>117.26</td>\n",
       "      <td>5801029</td>\n",
       "      <td>384.49</td>\n",
       "      <td>384.9500</td>\n",
       "      <td>383.250</td>\n",
       "      <td>384.20</td>\n",
       "      <td>41800991</td>\n",
       "    </tr>\n",
       "    <tr>\n",
       "      <th>2021-01-22 00:00:00-05:00</th>\n",
       "      <td>117.29</td>\n",
       "      <td>117.3200</td>\n",
       "      <td>117.1900</td>\n",
       "      <td>117.26</td>\n",
       "      <td>3469745</td>\n",
       "      <td>382.25</td>\n",
       "      <td>384.1256</td>\n",
       "      <td>381.835</td>\n",
       "      <td>382.86</td>\n",
       "      <td>39108239</td>\n",
       "    </tr>\n",
       "    <tr>\n",
       "      <th>2021-01-25 00:00:00-05:00</th>\n",
       "      <td>117.39</td>\n",
       "      <td>117.5600</td>\n",
       "      <td>117.3600</td>\n",
       "      <td>117.54</td>\n",
       "      <td>3977366</td>\n",
       "      <td>383.67</td>\n",
       "      <td>384.7700</td>\n",
       "      <td>378.460</td>\n",
       "      <td>384.40</td>\n",
       "      <td>61090775</td>\n",
       "    </tr>\n",
       "    <tr>\n",
       "      <th>2021-01-26 00:00:00-05:00</th>\n",
       "      <td>117.46</td>\n",
       "      <td>117.5850</td>\n",
       "      <td>117.4255</td>\n",
       "      <td>117.51</td>\n",
       "      <td>3451493</td>\n",
       "      <td>385.41</td>\n",
       "      <td>385.8500</td>\n",
       "      <td>383.540</td>\n",
       "      <td>383.83</td>\n",
       "      <td>36871235</td>\n",
       "    </tr>\n",
       "  </tbody>\n",
       "</table>\n",
       "</div>"
      ],
      "text/plain": [
       "                              AGG                                       \\\n",
       "                             open      high       low   close   volume   \n",
       "time                                                                     \n",
       "2021-01-20 00:00:00-05:00  117.35  117.4300  117.3100  117.40  3877734   \n",
       "2021-01-21 00:00:00-05:00  117.22  117.2985  117.1400  117.26  5801029   \n",
       "2021-01-22 00:00:00-05:00  117.29  117.3200  117.1900  117.26  3469745   \n",
       "2021-01-25 00:00:00-05:00  117.39  117.5600  117.3600  117.54  3977366   \n",
       "2021-01-26 00:00:00-05:00  117.46  117.5850  117.4255  117.51  3451493   \n",
       "\n",
       "                              SPY                                       \n",
       "                             open      high      low   close    volume  \n",
       "time                                                                    \n",
       "2021-01-20 00:00:00-05:00  381.11  384.7900  380.690  383.86  53064901  \n",
       "2021-01-21 00:00:00-05:00  384.49  384.9500  383.250  384.20  41800991  \n",
       "2021-01-22 00:00:00-05:00  382.25  384.1256  381.835  382.86  39108239  \n",
       "2021-01-25 00:00:00-05:00  383.67  384.7700  378.460  384.40  61090775  \n",
       "2021-01-26 00:00:00-05:00  385.41  385.8500  383.540  383.83  36871235  "
      ]
     },
     "execution_count": 12,
     "metadata": {},
     "output_type": "execute_result"
    }
   ],
   "source": [
    "# Format current date as ISO format\n",
    "start_date = pd.Timestamp(\"2021-01-20\", tz=\"America/New_York\").isoformat()\n",
    "current_date = pd.Timestamp(\"2021-10-26\", tz=\"America/New_York\").isoformat()\n",
    "\n",
    "# Set the tickers\n",
    "tickers = [\"AGG\", \"SPY\"]\n",
    "\n",
    "# Set timeframe to '1D' for Alpaca API\n",
    "timeframe = \"1D\"\n",
    "\n",
    "# Get current closing prices for SPY and AGG\n",
    "# (use a limit=1000 parameter to call the most recent 1000 days of data)\n",
    "df_ticker = crypto.get_barset(\n",
    "    tickers,\n",
    "    timeframe,\n",
    "    start=start_date,\n",
    "    end=current_date,\n",
    "    limit=1000\n",
    ").df\n",
    "\n",
    "# Display sample data\n",
    "df_ticker.head()"
   ]
  },
  {
   "cell_type": "code",
   "execution_count": 13,
   "metadata": {},
   "outputs": [],
   "source": [
    "# Pick AGG and SPY close prices\n",
    "Crypto_closing_prices = pd.DataFrame()\n",
    "\n",
    "# Fetch the closing prices \n",
    "agg_close_price = df_ticker[\"AGG\"][\"close\"][\"2021-10-26\"]\n",
    "spy_close_price = df_ticker[\"SPY\"][\"close\"][\"2021-10-26\"]\n"
   ]
  },
  {
   "cell_type": "code",
   "execution_count": 14,
   "metadata": {},
   "outputs": [
    {
     "name": "stdout",
     "output_type": "stream",
     "text": [
      "Current AGG closing price: $114.37\n",
      "Current SPY closing price: $455.97\n"
     ]
    }
   ],
   "source": [
    "# Print AGG and SPY close prices\n",
    "print(f\"Current AGG closing price: ${agg_close_price}\")\n",
    "print(f\"Current SPY closing price: ${spy_close_price}\")\n"
   ]
  },
  {
   "cell_type": "code",
   "execution_count": 15,
   "metadata": {},
   "outputs": [
    {
     "name": "stdout",
     "output_type": "stream",
     "text": [
      "The current value of your 50 SPY shares is $22798.50\n",
      "The current value of your 200 AGG shares is $22874.00\n"
     ]
    }
   ],
   "source": [
    "# Compute the current value of shares\n",
    "my_spy_value = my_spy * spy_close_price\n",
    "my_agg_value = my_agg * agg_close_price\n",
    "# Print current value of shares\n",
    "print(f\"The current value of your {my_spy} SPY shares is ${my_spy_value:0.2f}\")\n",
    "print(f\"The current value of your {my_agg} AGG shares is ${my_agg_value:0.2f}\")"
   ]
  },
  {
   "cell_type": "code",
   "execution_count": 16,
   "metadata": {},
   "outputs": [
    {
     "data": {
      "text/plain": [
       "45672.5"
      ]
     },
     "execution_count": 16,
     "metadata": {},
     "output_type": "execute_result"
    }
   ],
   "source": [
    "Total_Shares_Value = my_agg_value+my_spy_value\n",
    "Total_Shares_Value"
   ]
  },
  {
   "cell_type": "markdown",
   "metadata": {},
   "source": [
    "### Savings Health Analysis"
   ]
  },
  {
   "cell_type": "code",
   "execution_count": 17,
   "metadata": {},
   "outputs": [
    {
     "data": {
      "text/html": [
       "<div>\n",
       "<style scoped>\n",
       "    .dataframe tbody tr th:only-of-type {\n",
       "        vertical-align: middle;\n",
       "    }\n",
       "\n",
       "    .dataframe tbody tr th {\n",
       "        vertical-align: top;\n",
       "    }\n",
       "\n",
       "    .dataframe thead th {\n",
       "        text-align: right;\n",
       "    }\n",
       "</style>\n",
       "<table border=\"1\" class=\"dataframe\">\n",
       "  <thead>\n",
       "    <tr style=\"text-align: right;\">\n",
       "      <th></th>\n",
       "      <th>Amount</th>\n",
       "    </tr>\n",
       "  </thead>\n",
       "  <tbody>\n",
       "    <tr>\n",
       "      <th>Shares</th>\n",
       "      <td>45672.5</td>\n",
       "    </tr>\n",
       "    <tr>\n",
       "      <th>Crypto</th>\n",
       "      <td>401466.0</td>\n",
       "    </tr>\n",
       "  </tbody>\n",
       "</table>\n",
       "</div>"
      ],
      "text/plain": [
       "          Amount\n",
       "Shares   45672.5\n",
       "Crypto  401466.0"
      ]
     },
     "metadata": {},
     "output_type": "display_data"
    }
   ],
   "source": [
    "# Set monthly household income\n",
    "monthly_income = 12000\n",
    "\n",
    "# Consolidate financial assets data\n",
    "porfolio_data = {\n",
    "    \"Amount\": [Total_Shares_Value,Total_Crypto_Value]  \n",
    "}\n",
    "Asset = [\"Shares\",\"Crypto\"]\n",
    "\n",
    "\n",
    "# Create savings DataFrame\n",
    "df_savings = pd.DataFrame(porfolio_data, index=Asset)\n",
    "\n",
    "# Display savings DataFrame\n",
    "display(df_savings)"
   ]
  },
  {
   "cell_type": "code",
   "execution_count": 18,
   "metadata": {},
   "outputs": [
    {
     "name": "stdout",
     "output_type": "stream",
     "text": [
      "Requirement already satisfied: matplotlib in /opt/anaconda3/lib/python3.8/site-packages (3.4.3)\n",
      "Requirement already satisfied: cycler>=0.10 in /opt/anaconda3/lib/python3.8/site-packages (from matplotlib) (0.10.0)\n",
      "Requirement already satisfied: kiwisolver>=1.0.1 in /opt/anaconda3/lib/python3.8/site-packages (from matplotlib) (1.3.1)\n",
      "Requirement already satisfied: python-dateutil>=2.7 in /opt/anaconda3/lib/python3.8/site-packages (from matplotlib) (2.8.2)\n",
      "Requirement already satisfied: pyparsing>=2.2.1 in /opt/anaconda3/lib/python3.8/site-packages (from matplotlib) (2.4.7)\n",
      "Requirement already satisfied: numpy>=1.16 in /opt/anaconda3/lib/python3.8/site-packages (from matplotlib) (1.19.0)\n",
      "Requirement already satisfied: pillow>=6.2.0 in /opt/anaconda3/lib/python3.8/site-packages (from matplotlib) (8.4.0)\n",
      "Requirement already satisfied: six in /opt/anaconda3/lib/python3.8/site-packages (from cycler>=0.10->matplotlib) (1.16.0)\n"
     ]
    }
   ],
   "source": [
    "!pip install matplotlib"
   ]
  },
  {
   "cell_type": "code",
   "execution_count": 19,
   "metadata": {},
   "outputs": [
    {
     "data": {
      "text/plain": [
       "<AxesSubplot:title={'center':'Portfolio Composition'}, ylabel='Amount'>"
      ]
     },
     "execution_count": 19,
     "metadata": {},
     "output_type": "execute_result"
    },
    {
     "data": {
      "image/png": "[encoded data removed]",
      "text/plain": [
       "<Figure size 432x288 with 1 Axes>"
      ]
     },
     "metadata": {},
     "output_type": "display_data"
    }
   ],
   "source": [
    "# Plot savings pie chart\n",
    "df_savings.plot.pie(y= \"Amount\", title=\"Portfolio Composition\")"
   ]
  },
  {
   "cell_type": "code",
   "execution_count": 20,
   "metadata": {},
   "outputs": [
    {
     "data": {
      "text/plain": [
       "36000"
      ]
     },
     "execution_count": 20,
     "metadata": {},
     "output_type": "execute_result"
    }
   ],
   "source": [
    "# Set ideal emergency fund\n",
    "emergency_fund = monthly_income * 3\n",
    "emergency_fund\n"
   ]
  },
  {
   "cell_type": "code",
   "execution_count": 23,
   "metadata": {},
   "outputs": [
    {
     "data": {
      "text/plain": [
       "447138.5"
      ]
     },
     "execution_count": 23,
     "metadata": {},
     "output_type": "execute_result"
    }
   ],
   "source": [
    "Total_Savings= float(df_savings.sum())\n",
    "Total_Savings"
   ]
  },
  {
   "cell_type": "code",
   "execution_count": 27,
   "metadata": {},
   "outputs": [
    {
     "name": "stdout",
     "output_type": "stream",
     "text": [
      "Hi congrats for having enough money in this fund.\n"
     ]
    }
   ],
   "source": [
    "if Total_Savings > emergency_fund:\n",
    "        greeting = f\"Hi congrats for having enough money in this fund.\"\n",
    "elif (Total_Savings == emergency_fund):\n",
    "        greeting = f\"Hi congrats you have reahced your goal.\"\n",
    "elif Total_Savings < emergency_fund:\n",
    "        greeting = f\"Hi congrats for having enough money in this fund.\"\n",
    "print(greeting)"
   ]
  },
  {
   "cell_type": "code",
   "execution_count": null,
   "metadata": {},
   "outputs": [],
   "source": []
  },
  {
   "cell_type": "markdown",
   "metadata": {},
   "source": [
    "## Part 2 - Retirement Planning\n",
    "\n",
    "### Monte Carlo Simulation"
   ]
  },
  {
   "cell_type": "code",
   "execution_count": 31,
   "metadata": {},
   "outputs": [],
   "source": [
    "# Set start and end dates of five years back from today.\n",
    "# Sample results may vary from the solution based on the time frame chosen\n",
    "start_date = pd.Timestamp('2016-05-01', tz='America/New_York').isoformat()\n",
    "end_date = pd.Timestamp('2021-05-01', tz='America/New_York').isoformat()"
   ]
  },
  {
   "cell_type": "code",
   "execution_count": 32,
   "metadata": {},
   "outputs": [
    {
     "data": {
      "text/html": [
       "<div>\n",
       "<style scoped>\n",
       "    .dataframe tbody tr th:only-of-type {\n",
       "        vertical-align: middle;\n",
       "    }\n",
       "\n",
       "    .dataframe tbody tr th {\n",
       "        vertical-align: top;\n",
       "    }\n",
       "\n",
       "    .dataframe thead tr th {\n",
       "        text-align: left;\n",
       "    }\n",
       "\n",
       "    .dataframe thead tr:last-of-type th {\n",
       "        text-align: right;\n",
       "    }\n",
       "</style>\n",
       "<table border=\"1\" class=\"dataframe\">\n",
       "  <thead>\n",
       "    <tr>\n",
       "      <th></th>\n",
       "      <th colspan=\"5\" halign=\"left\">AGG</th>\n",
       "      <th colspan=\"5\" halign=\"left\">SPY</th>\n",
       "    </tr>\n",
       "    <tr>\n",
       "      <th></th>\n",
       "      <th>open</th>\n",
       "      <th>high</th>\n",
       "      <th>low</th>\n",
       "      <th>close</th>\n",
       "      <th>volume</th>\n",
       "      <th>open</th>\n",
       "      <th>high</th>\n",
       "      <th>low</th>\n",
       "      <th>close</th>\n",
       "      <th>volume</th>\n",
       "    </tr>\n",
       "    <tr>\n",
       "      <th>time</th>\n",
       "      <th></th>\n",
       "      <th></th>\n",
       "      <th></th>\n",
       "      <th></th>\n",
       "      <th></th>\n",
       "      <th></th>\n",
       "      <th></th>\n",
       "      <th></th>\n",
       "      <th></th>\n",
       "      <th></th>\n",
       "    </tr>\n",
       "  </thead>\n",
       "  <tbody>\n",
       "    <tr>\n",
       "      <th>2017-11-06 00:00:00-05:00</th>\n",
       "      <td>109.56</td>\n",
       "      <td>109.59</td>\n",
       "      <td>109.46</td>\n",
       "      <td>109.540</td>\n",
       "      <td>1120425</td>\n",
       "      <td>258.29</td>\n",
       "      <td>259.00</td>\n",
       "      <td>258.22</td>\n",
       "      <td>258.82</td>\n",
       "      <td>22683758</td>\n",
       "    </tr>\n",
       "    <tr>\n",
       "      <th>2017-11-07 00:00:00-05:00</th>\n",
       "      <td>109.58</td>\n",
       "      <td>109.61</td>\n",
       "      <td>109.49</td>\n",
       "      <td>109.570</td>\n",
       "      <td>1617243</td>\n",
       "      <td>258.97</td>\n",
       "      <td>259.35</td>\n",
       "      <td>258.09</td>\n",
       "      <td>258.70</td>\n",
       "      <td>40140309</td>\n",
       "    </tr>\n",
       "    <tr>\n",
       "      <th>2017-11-08 00:00:00-05:00</th>\n",
       "      <td>109.54</td>\n",
       "      <td>109.60</td>\n",
       "      <td>109.46</td>\n",
       "      <td>109.500</td>\n",
       "      <td>2228734</td>\n",
       "      <td>258.46</td>\n",
       "      <td>259.22</td>\n",
       "      <td>258.15</td>\n",
       "      <td>259.13</td>\n",
       "      <td>32174191</td>\n",
       "    </tr>\n",
       "    <tr>\n",
       "      <th>2017-11-09 00:00:00-05:00</th>\n",
       "      <td>109.39</td>\n",
       "      <td>109.46</td>\n",
       "      <td>109.30</td>\n",
       "      <td>109.420</td>\n",
       "      <td>1941380</td>\n",
       "      <td>257.73</td>\n",
       "      <td>258.39</td>\n",
       "      <td>256.36</td>\n",
       "      <td>258.20</td>\n",
       "      <td>75322217</td>\n",
       "    </tr>\n",
       "    <tr>\n",
       "      <th>2017-11-10 00:00:00-05:00</th>\n",
       "      <td>109.06</td>\n",
       "      <td>109.15</td>\n",
       "      <td>108.97</td>\n",
       "      <td>108.985</td>\n",
       "      <td>1488306</td>\n",
       "      <td>257.73</td>\n",
       "      <td>258.21</td>\n",
       "      <td>257.37</td>\n",
       "      <td>258.08</td>\n",
       "      <td>35755951</td>\n",
       "    </tr>\n",
       "  </tbody>\n",
       "</table>\n",
       "</div>"
      ],
      "text/plain": [
       "                              AGG                                       SPY  \\\n",
       "                             open    high     low    close   volume    open   \n",
       "time                                                                          \n",
       "2017-11-06 00:00:00-05:00  109.56  109.59  109.46  109.540  1120425  258.29   \n",
       "2017-11-07 00:00:00-05:00  109.58  109.61  109.49  109.570  1617243  258.97   \n",
       "2017-11-08 00:00:00-05:00  109.54  109.60  109.46  109.500  2228734  258.46   \n",
       "2017-11-09 00:00:00-05:00  109.39  109.46  109.30  109.420  1941380  257.73   \n",
       "2017-11-10 00:00:00-05:00  109.06  109.15  108.97  108.985  1488306  257.73   \n",
       "\n",
       "                                                             \n",
       "                             high     low   close    volume  \n",
       "time                                                         \n",
       "2017-11-06 00:00:00-05:00  259.00  258.22  258.82  22683758  \n",
       "2017-11-07 00:00:00-05:00  259.35  258.09  258.70  40140309  \n",
       "2017-11-08 00:00:00-05:00  259.22  258.15  259.13  32174191  \n",
       "2017-11-09 00:00:00-05:00  258.39  256.36  258.20  75322217  \n",
       "2017-11-10 00:00:00-05:00  258.21  257.37  258.08  35755951  "
      ]
     },
     "execution_count": 32,
     "metadata": {},
     "output_type": "execute_result"
    }
   ],
   "source": [
    "# Get 5 years' worth of historical data for SPY and AGG\n",
    "# (use a limit=1000 parameter to call the most recent 1000 days of data)\n",
    "df_stock_data = crypto.get_barset(\n",
    "    tickers,\n",
    "    timeframe,\n",
    "    start=start_date,\n",
    "    end=current_date,\n",
    "    limit=1000\n",
    ").df\n",
    "\n",
    "\n",
    "# Display sample data\n",
    "df_stock_data.head()\n"
   ]
  },
  {
   "cell_type": "code",
   "execution_count": 33,
   "metadata": {},
   "outputs": [],
   "source": [
    "# Configuring a Monte Carlo simulation to forecast 30 years cumulative returns\n",
    " # Set number of simulations\n",
    "num_sims = 500\n",
    "\n",
    "MC_Crypto = MCSimulation(\n",
    "    portfolio_data = df_stock_data,\n",
    "    num_simulation = num_sims,\n",
    "    num_trading_days = 252*30,\n",
    "    weights = [.40,.60]\n",
    ")"
   ]
  },
  {
   "cell_type": "code",
   "execution_count": 34,
   "metadata": {},
   "outputs": [
    {
     "data": {
      "text/html": [
       "<div>\n",
       "<style scoped>\n",
       "    .dataframe tbody tr th:only-of-type {\n",
       "        vertical-align: middle;\n",
       "    }\n",
       "\n",
       "    .dataframe tbody tr th {\n",
       "        vertical-align: top;\n",
       "    }\n",
       "\n",
       "    .dataframe thead tr th {\n",
       "        text-align: left;\n",
       "    }\n",
       "\n",
       "    .dataframe thead tr:last-of-type th {\n",
       "        text-align: right;\n",
       "    }\n",
       "</style>\n",
       "<table border=\"1\" class=\"dataframe\">\n",
       "  <thead>\n",
       "    <tr>\n",
       "      <th></th>\n",
       "      <th colspan=\"5\" halign=\"left\">AGG</th>\n",
       "      <th colspan=\"5\" halign=\"left\">SPY</th>\n",
       "    </tr>\n",
       "    <tr>\n",
       "      <th></th>\n",
       "      <th>open</th>\n",
       "      <th>high</th>\n",
       "      <th>low</th>\n",
       "      <th>close</th>\n",
       "      <th>volume</th>\n",
       "      <th>open</th>\n",
       "      <th>high</th>\n",
       "      <th>low</th>\n",
       "      <th>close</th>\n",
       "      <th>volume</th>\n",
       "    </tr>\n",
       "    <tr>\n",
       "      <th>time</th>\n",
       "      <th></th>\n",
       "      <th></th>\n",
       "      <th></th>\n",
       "      <th></th>\n",
       "      <th></th>\n",
       "      <th></th>\n",
       "      <th></th>\n",
       "      <th></th>\n",
       "      <th></th>\n",
       "      <th></th>\n",
       "    </tr>\n",
       "  </thead>\n",
       "  <tbody>\n",
       "    <tr>\n",
       "      <th>2017-11-06 00:00:00-05:00</th>\n",
       "      <td>109.56</td>\n",
       "      <td>109.5900</td>\n",
       "      <td>109.4600</td>\n",
       "      <td>109.540</td>\n",
       "      <td>1120425</td>\n",
       "      <td>258.29</td>\n",
       "      <td>259.000</td>\n",
       "      <td>258.22</td>\n",
       "      <td>258.82</td>\n",
       "      <td>22683758</td>\n",
       "    </tr>\n",
       "    <tr>\n",
       "      <th>2017-11-07 00:00:00-05:00</th>\n",
       "      <td>109.58</td>\n",
       "      <td>109.6100</td>\n",
       "      <td>109.4900</td>\n",
       "      <td>109.570</td>\n",
       "      <td>1617243</td>\n",
       "      <td>258.97</td>\n",
       "      <td>259.350</td>\n",
       "      <td>258.09</td>\n",
       "      <td>258.70</td>\n",
       "      <td>40140309</td>\n",
       "    </tr>\n",
       "    <tr>\n",
       "      <th>2017-11-08 00:00:00-05:00</th>\n",
       "      <td>109.54</td>\n",
       "      <td>109.6000</td>\n",
       "      <td>109.4600</td>\n",
       "      <td>109.500</td>\n",
       "      <td>2228734</td>\n",
       "      <td>258.46</td>\n",
       "      <td>259.220</td>\n",
       "      <td>258.15</td>\n",
       "      <td>259.13</td>\n",
       "      <td>32174191</td>\n",
       "    </tr>\n",
       "    <tr>\n",
       "      <th>2017-11-09 00:00:00-05:00</th>\n",
       "      <td>109.39</td>\n",
       "      <td>109.4600</td>\n",
       "      <td>109.3000</td>\n",
       "      <td>109.420</td>\n",
       "      <td>1941380</td>\n",
       "      <td>257.73</td>\n",
       "      <td>258.390</td>\n",
       "      <td>256.36</td>\n",
       "      <td>258.20</td>\n",
       "      <td>75322217</td>\n",
       "    </tr>\n",
       "    <tr>\n",
       "      <th>2017-11-10 00:00:00-05:00</th>\n",
       "      <td>109.06</td>\n",
       "      <td>109.1500</td>\n",
       "      <td>108.9700</td>\n",
       "      <td>108.985</td>\n",
       "      <td>1488306</td>\n",
       "      <td>257.73</td>\n",
       "      <td>258.210</td>\n",
       "      <td>257.37</td>\n",
       "      <td>258.08</td>\n",
       "      <td>35755951</td>\n",
       "    </tr>\n",
       "    <tr>\n",
       "      <th>...</th>\n",
       "      <td>...</td>\n",
       "      <td>...</td>\n",
       "      <td>...</td>\n",
       "      <td>...</td>\n",
       "      <td>...</td>\n",
       "      <td>...</td>\n",
       "      <td>...</td>\n",
       "      <td>...</td>\n",
       "      <td>...</td>\n",
       "      <td>...</td>\n",
       "    </tr>\n",
       "    <tr>\n",
       "      <th>2021-10-20 00:00:00-04:00</th>\n",
       "      <td>114.17</td>\n",
       "      <td>114.2900</td>\n",
       "      <td>114.0600</td>\n",
       "      <td>114.070</td>\n",
       "      <td>5881766</td>\n",
       "      <td>451.13</td>\n",
       "      <td>452.732</td>\n",
       "      <td>451.01</td>\n",
       "      <td>452.39</td>\n",
       "      <td>41594298</td>\n",
       "    </tr>\n",
       "    <tr>\n",
       "      <th>2021-10-21 00:00:00-04:00</th>\n",
       "      <td>114.01</td>\n",
       "      <td>114.0400</td>\n",
       "      <td>113.8423</td>\n",
       "      <td>113.850</td>\n",
       "      <td>4741154</td>\n",
       "      <td>451.76</td>\n",
       "      <td>453.829</td>\n",
       "      <td>451.31</td>\n",
       "      <td>453.61</td>\n",
       "      <td>33945007</td>\n",
       "    </tr>\n",
       "    <tr>\n",
       "      <th>2021-10-22 00:00:00-04:00</th>\n",
       "      <td>113.97</td>\n",
       "      <td>114.1399</td>\n",
       "      <td>113.8950</td>\n",
       "      <td>114.070</td>\n",
       "      <td>3309637</td>\n",
       "      <td>453.13</td>\n",
       "      <td>454.670</td>\n",
       "      <td>451.05</td>\n",
       "      <td>453.13</td>\n",
       "      <td>50771701</td>\n",
       "    </tr>\n",
       "    <tr>\n",
       "      <th>2021-10-25 00:00:00-04:00</th>\n",
       "      <td>114.06</td>\n",
       "      <td>114.2700</td>\n",
       "      <td>114.0600</td>\n",
       "      <td>114.170</td>\n",
       "      <td>7088133</td>\n",
       "      <td>454.28</td>\n",
       "      <td>455.900</td>\n",
       "      <td>452.39</td>\n",
       "      <td>455.48</td>\n",
       "      <td>37918548</td>\n",
       "    </tr>\n",
       "    <tr>\n",
       "      <th>2021-10-26 00:00:00-04:00</th>\n",
       "      <td>114.25</td>\n",
       "      <td>114.3800</td>\n",
       "      <td>114.1100</td>\n",
       "      <td>114.370</td>\n",
       "      <td>5284755</td>\n",
       "      <td>457.20</td>\n",
       "      <td>458.490</td>\n",
       "      <td>455.56</td>\n",
       "      <td>455.97</td>\n",
       "      <td>49865704</td>\n",
       "    </tr>\n",
       "  </tbody>\n",
       "</table>\n",
       "<p>1000 rows × 10 columns</p>\n",
       "</div>"
      ],
      "text/plain": [
       "                              AGG                                        \\\n",
       "                             open      high       low    close   volume   \n",
       "time                                                                      \n",
       "2017-11-06 00:00:00-05:00  109.56  109.5900  109.4600  109.540  1120425   \n",
       "2017-11-07 00:00:00-05:00  109.58  109.6100  109.4900  109.570  1617243   \n",
       "2017-11-08 00:00:00-05:00  109.54  109.6000  109.4600  109.500  2228734   \n",
       "2017-11-09 00:00:00-05:00  109.39  109.4600  109.3000  109.420  1941380   \n",
       "2017-11-10 00:00:00-05:00  109.06  109.1500  108.9700  108.985  1488306   \n",
       "...                           ...       ...       ...      ...      ...   \n",
       "2021-10-20 00:00:00-04:00  114.17  114.2900  114.0600  114.070  5881766   \n",
       "2021-10-21 00:00:00-04:00  114.01  114.0400  113.8423  113.850  4741154   \n",
       "2021-10-22 00:00:00-04:00  113.97  114.1399  113.8950  114.070  3309637   \n",
       "2021-10-25 00:00:00-04:00  114.06  114.2700  114.0600  114.170  7088133   \n",
       "2021-10-26 00:00:00-04:00  114.25  114.3800  114.1100  114.370  5284755   \n",
       "\n",
       "                              SPY                                     \n",
       "                             open     high     low   close    volume  \n",
       "time                                                                  \n",
       "2017-11-06 00:00:00-05:00  258.29  259.000  258.22  258.82  22683758  \n",
       "2017-11-07 00:00:00-05:00  258.97  259.350  258.09  258.70  40140309  \n",
       "2017-11-08 00:00:00-05:00  258.46  259.220  258.15  259.13  32174191  \n",
       "2017-11-09 00:00:00-05:00  257.73  258.390  256.36  258.20  75322217  \n",
       "2017-11-10 00:00:00-05:00  257.73  258.210  257.37  258.08  35755951  \n",
       "...                           ...      ...     ...     ...       ...  \n",
       "2021-10-20 00:00:00-04:00  451.13  452.732  451.01  452.39  41594298  \n",
       "2021-10-21 00:00:00-04:00  451.76  453.829  451.31  453.61  33945007  \n",
       "2021-10-22 00:00:00-04:00  453.13  454.670  451.05  453.13  50771701  \n",
       "2021-10-25 00:00:00-04:00  454.28  455.900  452.39  455.48  37918548  \n",
       "2021-10-26 00:00:00-04:00  457.20  458.490  455.56  455.97  49865704  \n",
       "\n",
       "[1000 rows x 10 columns]"
      ]
     },
     "execution_count": 34,
     "metadata": {},
     "output_type": "execute_result"
    }
   ],
   "source": [
    "# Printing the simulation input data\n",
    "df_stock_data"
   ]
  },
  {
   "cell_type": "code",
   "execution_count": 35,
   "metadata": {},
   "outputs": [
    {
     "name": "stdout",
     "output_type": "stream",
     "text": [
      "Running Monte Carlo simulation number 0.\n",
      "Running Monte Carlo simulation number 10.\n",
      "Running Monte Carlo simulation number 20.\n",
      "Running Monte Carlo simulation number 30.\n",
      "Running Monte Carlo simulation number 40.\n",
      "Running Monte Carlo simulation number 50.\n",
      "Running Monte Carlo simulation number 60.\n",
      "Running Monte Carlo simulation number 70.\n",
      "Running Monte Carlo simulation number 80.\n",
      "Running Monte Carlo simulation number 90.\n",
      "Running Monte Carlo simulation number 100.\n"
     ]
    },
    {
     "name": "stderr",
     "output_type": "stream",
     "text": [
      "/Users/williammccarthy/Documents/API_Homework/MCForecastTools.py:117: PerformanceWarning: DataFrame is highly fragmented.  This is usually the result of calling `frame.insert` many times, which has poor performance.  Consider joining all columns at once using pd.concat(axis=1) instead.  To get a de-fragmented frame, use `newframe = frame.copy()`\n",
      "  portfolio_cumulative_returns[n] = (1 + sim_df.fillna(0)).cumprod()\n"
     ]
    },
    {
     "name": "stdout",
     "output_type": "stream",
     "text": [
      "Running Monte Carlo simulation number 110.\n",
      "Running Monte Carlo simulation number 120.\n",
      "Running Monte Carlo simulation number 130.\n",
      "Running Monte Carlo simulation number 140.\n",
      "Running Monte Carlo simulation number 150.\n",
      "Running Monte Carlo simulation number 160.\n",
      "Running Monte Carlo simulation number 170.\n",
      "Running Monte Carlo simulation number 180.\n",
      "Running Monte Carlo simulation number 190.\n",
      "Running Monte Carlo simulation number 200.\n",
      "Running Monte Carlo simulation number 210.\n",
      "Running Monte Carlo simulation number 220.\n",
      "Running Monte Carlo simulation number 230.\n",
      "Running Monte Carlo simulation number 240.\n",
      "Running Monte Carlo simulation number 250.\n",
      "Running Monte Carlo simulation number 260.\n",
      "Running Monte Carlo simulation number 270.\n",
      "Running Monte Carlo simulation number 280.\n",
      "Running Monte Carlo simulation number 290.\n",
      "Running Monte Carlo simulation number 300.\n",
      "Running Monte Carlo simulation number 310.\n",
      "Running Monte Carlo simulation number 320.\n",
      "Running Monte Carlo simulation number 330.\n",
      "Running Monte Carlo simulation number 340.\n",
      "Running Monte Carlo simulation number 350.\n",
      "Running Monte Carlo simulation number 360.\n",
      "Running Monte Carlo simulation number 370.\n",
      "Running Monte Carlo simulation number 380.\n",
      "Running Monte Carlo simulation number 390.\n",
      "Running Monte Carlo simulation number 400.\n",
      "Running Monte Carlo simulation number 410.\n",
      "Running Monte Carlo simulation number 420.\n",
      "Running Monte Carlo simulation number 430.\n",
      "Running Monte Carlo simulation number 440.\n",
      "Running Monte Carlo simulation number 450.\n",
      "Running Monte Carlo simulation number 460.\n",
      "Running Monte Carlo simulation number 470.\n",
      "Running Monte Carlo simulation number 480.\n",
      "Running Monte Carlo simulation number 490.\n"
     ]
    },
    {
     "data": {
      "text/html": [
       "<div>\n",
       "<style scoped>\n",
       "    .dataframe tbody tr th:only-of-type {\n",
       "        vertical-align: middle;\n",
       "    }\n",
       "\n",
       "    .dataframe tbody tr th {\n",
       "        vertical-align: top;\n",
       "    }\n",
       "\n",
       "    .dataframe thead th {\n",
       "        text-align: right;\n",
       "    }\n",
       "</style>\n",
       "<table border=\"1\" class=\"dataframe\">\n",
       "  <thead>\n",
       "    <tr style=\"text-align: right;\">\n",
       "      <th></th>\n",
       "      <th>0</th>\n",
       "      <th>1</th>\n",
       "      <th>2</th>\n",
       "      <th>3</th>\n",
       "      <th>4</th>\n",
       "      <th>5</th>\n",
       "      <th>6</th>\n",
       "      <th>7</th>\n",
       "      <th>8</th>\n",
       "      <th>9</th>\n",
       "      <th>...</th>\n",
       "      <th>490</th>\n",
       "      <th>491</th>\n",
       "      <th>492</th>\n",
       "      <th>493</th>\n",
       "      <th>494</th>\n",
       "      <th>495</th>\n",
       "      <th>496</th>\n",
       "      <th>497</th>\n",
       "      <th>498</th>\n",
       "      <th>499</th>\n",
       "    </tr>\n",
       "  </thead>\n",
       "  <tbody>\n",
       "    <tr>\n",
       "      <th>0</th>\n",
       "      <td>1.000000</td>\n",
       "      <td>1.000000</td>\n",
       "      <td>1.000000</td>\n",
       "      <td>1.000000</td>\n",
       "      <td>1.000000</td>\n",
       "      <td>1.000000</td>\n",
       "      <td>1.000000</td>\n",
       "      <td>1.000000</td>\n",
       "      <td>1.000000</td>\n",
       "      <td>1.000000</td>\n",
       "      <td>...</td>\n",
       "      <td>1.000000</td>\n",
       "      <td>1.000000</td>\n",
       "      <td>1.000000</td>\n",
       "      <td>1.000000</td>\n",
       "      <td>1.000000</td>\n",
       "      <td>1.000000</td>\n",
       "      <td>1.000000</td>\n",
       "      <td>1.000000</td>\n",
       "      <td>1.000000</td>\n",
       "      <td>1.000000</td>\n",
       "    </tr>\n",
       "    <tr>\n",
       "      <th>1</th>\n",
       "      <td>0.997236</td>\n",
       "      <td>0.984103</td>\n",
       "      <td>1.003417</td>\n",
       "      <td>0.993723</td>\n",
       "      <td>0.999663</td>\n",
       "      <td>0.996630</td>\n",
       "      <td>1.011517</td>\n",
       "      <td>1.000523</td>\n",
       "      <td>0.985021</td>\n",
       "      <td>1.004580</td>\n",
       "      <td>...</td>\n",
       "      <td>0.992473</td>\n",
       "      <td>0.996599</td>\n",
       "      <td>1.004157</td>\n",
       "      <td>1.003404</td>\n",
       "      <td>0.994434</td>\n",
       "      <td>0.996708</td>\n",
       "      <td>1.004254</td>\n",
       "      <td>1.010303</td>\n",
       "      <td>1.000990</td>\n",
       "      <td>0.995664</td>\n",
       "    </tr>\n",
       "    <tr>\n",
       "      <th>2</th>\n",
       "      <td>0.990926</td>\n",
       "      <td>1.000140</td>\n",
       "      <td>1.002142</td>\n",
       "      <td>1.000219</td>\n",
       "      <td>0.997641</td>\n",
       "      <td>0.997527</td>\n",
       "      <td>1.017499</td>\n",
       "      <td>0.999653</td>\n",
       "      <td>0.986732</td>\n",
       "      <td>1.015517</td>\n",
       "      <td>...</td>\n",
       "      <td>0.989984</td>\n",
       "      <td>0.994172</td>\n",
       "      <td>1.007232</td>\n",
       "      <td>1.000601</td>\n",
       "      <td>0.986481</td>\n",
       "      <td>0.982731</td>\n",
       "      <td>0.995112</td>\n",
       "      <td>1.019930</td>\n",
       "      <td>1.008883</td>\n",
       "      <td>0.987415</td>\n",
       "    </tr>\n",
       "    <tr>\n",
       "      <th>3</th>\n",
       "      <td>0.980560</td>\n",
       "      <td>0.999262</td>\n",
       "      <td>1.003530</td>\n",
       "      <td>0.996939</td>\n",
       "      <td>1.001962</td>\n",
       "      <td>1.008563</td>\n",
       "      <td>1.030192</td>\n",
       "      <td>0.990354</td>\n",
       "      <td>0.990898</td>\n",
       "      <td>1.010658</td>\n",
       "      <td>...</td>\n",
       "      <td>0.979549</td>\n",
       "      <td>0.990943</td>\n",
       "      <td>1.022384</td>\n",
       "      <td>0.988043</td>\n",
       "      <td>0.986991</td>\n",
       "      <td>0.984459</td>\n",
       "      <td>1.003848</td>\n",
       "      <td>1.021904</td>\n",
       "      <td>1.031317</td>\n",
       "      <td>0.982657</td>\n",
       "    </tr>\n",
       "    <tr>\n",
       "      <th>4</th>\n",
       "      <td>0.985301</td>\n",
       "      <td>1.005640</td>\n",
       "      <td>1.005385</td>\n",
       "      <td>0.998503</td>\n",
       "      <td>1.009744</td>\n",
       "      <td>1.002502</td>\n",
       "      <td>1.037526</td>\n",
       "      <td>0.998716</td>\n",
       "      <td>0.980282</td>\n",
       "      <td>1.017507</td>\n",
       "      <td>...</td>\n",
       "      <td>0.978040</td>\n",
       "      <td>1.000443</td>\n",
       "      <td>1.023065</td>\n",
       "      <td>0.996557</td>\n",
       "      <td>0.995887</td>\n",
       "      <td>0.973832</td>\n",
       "      <td>0.988045</td>\n",
       "      <td>1.019072</td>\n",
       "      <td>1.042215</td>\n",
       "      <td>0.986210</td>\n",
       "    </tr>\n",
       "    <tr>\n",
       "      <th>...</th>\n",
       "      <td>...</td>\n",
       "      <td>...</td>\n",
       "      <td>...</td>\n",
       "      <td>...</td>\n",
       "      <td>...</td>\n",
       "      <td>...</td>\n",
       "      <td>...</td>\n",
       "      <td>...</td>\n",
       "      <td>...</td>\n",
       "      <td>...</td>\n",
       "      <td>...</td>\n",
       "      <td>...</td>\n",
       "      <td>...</td>\n",
       "      <td>...</td>\n",
       "      <td>...</td>\n",
       "      <td>...</td>\n",
       "      <td>...</td>\n",
       "      <td>...</td>\n",
       "      <td>...</td>\n",
       "      <td>...</td>\n",
       "      <td>...</td>\n",
       "    </tr>\n",
       "    <tr>\n",
       "      <th>7556</th>\n",
       "      <td>41.079189</td>\n",
       "      <td>10.427201</td>\n",
       "      <td>11.521504</td>\n",
       "      <td>20.337794</td>\n",
       "      <td>30.561870</td>\n",
       "      <td>5.416818</td>\n",
       "      <td>54.114048</td>\n",
       "      <td>20.585019</td>\n",
       "      <td>9.269345</td>\n",
       "      <td>11.726191</td>\n",
       "      <td>...</td>\n",
       "      <td>38.962932</td>\n",
       "      <td>7.746869</td>\n",
       "      <td>16.309980</td>\n",
       "      <td>23.898023</td>\n",
       "      <td>14.189243</td>\n",
       "      <td>13.954010</td>\n",
       "      <td>35.444960</td>\n",
       "      <td>39.540979</td>\n",
       "      <td>16.199564</td>\n",
       "      <td>4.037269</td>\n",
       "    </tr>\n",
       "    <tr>\n",
       "      <th>7557</th>\n",
       "      <td>40.697802</td>\n",
       "      <td>10.408849</td>\n",
       "      <td>11.512468</td>\n",
       "      <td>20.373554</td>\n",
       "      <td>30.722906</td>\n",
       "      <td>5.436113</td>\n",
       "      <td>54.509550</td>\n",
       "      <td>20.463927</td>\n",
       "      <td>9.212114</td>\n",
       "      <td>11.797363</td>\n",
       "      <td>...</td>\n",
       "      <td>39.069796</td>\n",
       "      <td>7.796667</td>\n",
       "      <td>16.162893</td>\n",
       "      <td>24.108010</td>\n",
       "      <td>14.121112</td>\n",
       "      <td>13.889264</td>\n",
       "      <td>35.449697</td>\n",
       "      <td>39.606008</td>\n",
       "      <td>16.267714</td>\n",
       "      <td>4.070175</td>\n",
       "    </tr>\n",
       "    <tr>\n",
       "      <th>7558</th>\n",
       "      <td>41.256052</td>\n",
       "      <td>10.451900</td>\n",
       "      <td>11.403722</td>\n",
       "      <td>20.268985</td>\n",
       "      <td>30.708437</td>\n",
       "      <td>5.431651</td>\n",
       "      <td>54.974988</td>\n",
       "      <td>20.584987</td>\n",
       "      <td>9.335045</td>\n",
       "      <td>11.843954</td>\n",
       "      <td>...</td>\n",
       "      <td>38.707794</td>\n",
       "      <td>7.860609</td>\n",
       "      <td>16.055840</td>\n",
       "      <td>24.006718</td>\n",
       "      <td>14.292265</td>\n",
       "      <td>13.802831</td>\n",
       "      <td>35.000935</td>\n",
       "      <td>39.422956</td>\n",
       "      <td>16.234061</td>\n",
       "      <td>4.091406</td>\n",
       "    </tr>\n",
       "    <tr>\n",
       "      <th>7559</th>\n",
       "      <td>41.295883</td>\n",
       "      <td>10.469693</td>\n",
       "      <td>11.531907</td>\n",
       "      <td>20.292387</td>\n",
       "      <td>30.776267</td>\n",
       "      <td>5.432717</td>\n",
       "      <td>55.513453</td>\n",
       "      <td>20.724610</td>\n",
       "      <td>9.455965</td>\n",
       "      <td>11.657441</td>\n",
       "      <td>...</td>\n",
       "      <td>38.445276</td>\n",
       "      <td>7.950579</td>\n",
       "      <td>15.960957</td>\n",
       "      <td>23.943986</td>\n",
       "      <td>14.492014</td>\n",
       "      <td>13.776560</td>\n",
       "      <td>34.962878</td>\n",
       "      <td>39.068870</td>\n",
       "      <td>16.261771</td>\n",
       "      <td>4.167147</td>\n",
       "    </tr>\n",
       "    <tr>\n",
       "      <th>7560</th>\n",
       "      <td>41.018430</td>\n",
       "      <td>10.500287</td>\n",
       "      <td>11.600364</td>\n",
       "      <td>20.166999</td>\n",
       "      <td>30.735741</td>\n",
       "      <td>5.480847</td>\n",
       "      <td>55.655881</td>\n",
       "      <td>20.643848</td>\n",
       "      <td>9.467522</td>\n",
       "      <td>11.689946</td>\n",
       "      <td>...</td>\n",
       "      <td>38.332948</td>\n",
       "      <td>7.924790</td>\n",
       "      <td>15.986640</td>\n",
       "      <td>24.133909</td>\n",
       "      <td>14.618279</td>\n",
       "      <td>13.722479</td>\n",
       "      <td>34.914077</td>\n",
       "      <td>39.387469</td>\n",
       "      <td>16.064076</td>\n",
       "      <td>4.182121</td>\n",
       "    </tr>\n",
       "  </tbody>\n",
       "</table>\n",
       "<p>7561 rows × 500 columns</p>\n",
       "</div>"
      ],
      "text/plain": [
       "            0          1          2          3          4         5    \\\n",
       "0      1.000000   1.000000   1.000000   1.000000   1.000000  1.000000   \n",
       "1      0.997236   0.984103   1.003417   0.993723   0.999663  0.996630   \n",
       "2      0.990926   1.000140   1.002142   1.000219   0.997641  0.997527   \n",
       "3      0.980560   0.999262   1.003530   0.996939   1.001962  1.008563   \n",
       "4      0.985301   1.005640   1.005385   0.998503   1.009744  1.002502   \n",
       "...         ...        ...        ...        ...        ...       ...   \n",
       "7556  41.079189  10.427201  11.521504  20.337794  30.561870  5.416818   \n",
       "7557  40.697802  10.408849  11.512468  20.373554  30.722906  5.436113   \n",
       "7558  41.256052  10.451900  11.403722  20.268985  30.708437  5.431651   \n",
       "7559  41.295883  10.469693  11.531907  20.292387  30.776267  5.432717   \n",
       "7560  41.018430  10.500287  11.600364  20.166999  30.735741  5.480847   \n",
       "\n",
       "            6          7         8          9    ...        490       491  \\\n",
       "0      1.000000   1.000000  1.000000   1.000000  ...   1.000000  1.000000   \n",
       "1      1.011517   1.000523  0.985021   1.004580  ...   0.992473  0.996599   \n",
       "2      1.017499   0.999653  0.986732   1.015517  ...   0.989984  0.994172   \n",
       "3      1.030192   0.990354  0.990898   1.010658  ...   0.979549  0.990943   \n",
       "4      1.037526   0.998716  0.980282   1.017507  ...   0.978040  1.000443   \n",
       "...         ...        ...       ...        ...  ...        ...       ...   \n",
       "7556  54.114048  20.585019  9.269345  11.726191  ...  38.962932  7.746869   \n",
       "7557  54.509550  20.463927  9.212114  11.797363  ...  39.069796  7.796667   \n",
       "7558  54.974988  20.584987  9.335045  11.843954  ...  38.707794  7.860609   \n",
       "7559  55.513453  20.724610  9.455965  11.657441  ...  38.445276  7.950579   \n",
       "7560  55.655881  20.643848  9.467522  11.689946  ...  38.332948  7.924790   \n",
       "\n",
       "            492        493        494        495        496        497  \\\n",
       "0      1.000000   1.000000   1.000000   1.000000   1.000000   1.000000   \n",
       "1      1.004157   1.003404   0.994434   0.996708   1.004254   1.010303   \n",
       "2      1.007232   1.000601   0.986481   0.982731   0.995112   1.019930   \n",
       "3      1.022384   0.988043   0.986991   0.984459   1.003848   1.021904   \n",
       "4      1.023065   0.996557   0.995887   0.973832   0.988045   1.019072   \n",
       "...         ...        ...        ...        ...        ...        ...   \n",
       "7556  16.309980  23.898023  14.189243  13.954010  35.444960  39.540979   \n",
       "7557  16.162893  24.108010  14.121112  13.889264  35.449697  39.606008   \n",
       "7558  16.055840  24.006718  14.292265  13.802831  35.000935  39.422956   \n",
       "7559  15.960957  23.943986  14.492014  13.776560  34.962878  39.068870   \n",
       "7560  15.986640  24.133909  14.618279  13.722479  34.914077  39.387469   \n",
       "\n",
       "            498       499  \n",
       "0      1.000000  1.000000  \n",
       "1      1.000990  0.995664  \n",
       "2      1.008883  0.987415  \n",
       "3      1.031317  0.982657  \n",
       "4      1.042215  0.986210  \n",
       "...         ...       ...  \n",
       "7556  16.199564  4.037269  \n",
       "7557  16.267714  4.070175  \n",
       "7558  16.234061  4.091406  \n",
       "7559  16.261771  4.167147  \n",
       "7560  16.064076  4.182121  \n",
       "\n",
       "[7561 rows x 500 columns]"
      ]
     },
     "execution_count": 35,
     "metadata": {},
     "output_type": "execute_result"
    }
   ],
   "source": [
    "# Running a Monte Carlo simulation to forecast 30 years cumulative returns\n",
    "MC_Crypto.calc_cumulative_return()"
   ]
  },
  {
   "cell_type": "code",
   "execution_count": 36,
   "metadata": {},
   "outputs": [
    {
     "data": {
      "image/png": "[encoded data removed]",
      "text/plain": [
       "<Figure size 432x288 with 1 Axes>"
      ]
     },
     "metadata": {
      "needs_background": "light"
     },
     "output_type": "display_data"
    }
   ],
   "source": [
    "# Plot simulation outcomes\n",
    "line_plot = MC_Crypto.plot_simulation()"
   ]
  },
  {
   "cell_type": "code",
   "execution_count": 37,
   "metadata": {},
   "outputs": [
    {
     "data": {
      "image/png": "[encoded data removed]",
      "text/plain": [
       "<Figure size 432x288 with 1 Axes>"
      ]
     },
     "metadata": {
      "needs_background": "light"
     },
     "output_type": "display_data"
    }
   ],
   "source": [
    "# Plot probability distribution and confidence intervals\n",
    "dist_plot = MC_Crypto.plot_distribution()"
   ]
  },
  {
   "cell_type": "markdown",
   "metadata": {},
   "source": [
    "### Retirement Analysis"
   ]
  },
  {
   "cell_type": "code",
   "execution_count": 38,
   "metadata": {},
   "outputs": [
    {
     "name": "stdout",
     "output_type": "stream",
     "text": [
      "count           500.000000\n",
      "mean             25.115355\n",
      "std              20.714280\n",
      "min               1.293763\n",
      "25%              11.584285\n",
      "50%              18.893328\n",
      "75%              31.883382\n",
      "max             165.039591\n",
      "95% CI Lower      4.337176\n",
      "95% CI Upper     81.351238\n",
      "Name: 7560, dtype: float64\n"
     ]
    }
   ],
   "source": [
    "# Fetch summary statistics from the Monte Carlo simulation results\n",
    "Sum_Stat = MC_Crypto.summarize_cumulative_return()\n",
    "\n",
    "# Print summary statistics\n",
    "print(Sum_Stat)"
   ]
  },
  {
   "cell_type": "markdown",
   "metadata": {},
   "source": [
    "### Calculate the expected portfolio return at the `95%` lower and upper confidence intervals based on a `$20,000` initial investment."
   ]
  },
  {
   "cell_type": "code",
   "execution_count": 39,
   "metadata": {},
   "outputs": [
    {
     "name": "stdout",
     "output_type": "stream",
     "text": [
      "There is a 95% chance that an initial investment of $20000 in the portfolio over the next 30 years will end within in the range of $86743.52 and $1627024.77\n"
     ]
    }
   ],
   "source": [
    "# Set initial investment\n",
    "initial_investment = 20000\n",
    "\n",
    "# Use the lower and upper `95%` confidence intervals to calculate the range of the possible outcomes of our $20,000\n",
    "ci_lower = round(Sum_Stat[8]*initial_investment,2)\n",
    "ci_upper = round(Sum_Stat[9]*initial_investment,2)\n",
    "\n",
    "# Print results\n",
    "print(f\"There is a 95% chance that an initial investment of ${initial_investment} in the portfolio\"\n",
    "      f\" over the next 30 years will end within in the range of\"\n",
    "      f\" ${ci_lower} and ${ci_upper}\")"
   ]
  },
  {
   "cell_type": "markdown",
   "metadata": {},
   "source": [
    "### Calculate the expected portfolio return at the `95%` lower and upper confidence intervals based on a `50%` increase in the initial investment."
   ]
  },
  {
   "cell_type": "code",
   "execution_count": 40,
   "metadata": {},
   "outputs": [
    {
     "name": "stdout",
     "output_type": "stream",
     "text": [
      "There is a 95% chance that an initial investment of $20000 in the portfolio over the next 30 years will end within in the range of $130115.28 and $2440537.15\n"
     ]
    }
   ],
   "source": [
    "# Set initial investment\n",
    "initial_investment_2 = 20000 * 1.5\n",
    "\n",
    "# Use the lower and upper `95%` confidence intervals to calculate the range of the possible outcomes of our $30,000\n",
    "ci_lower = round(Sum_Stat[8]*initial_investment_2,2)\n",
    "ci_upper = round(Sum_Stat[9]*initial_investment_2,2)\n",
    "\n",
    "# Print results\n",
    "print(f\"There is a 95% chance that an initial investment of ${initial_investment} in the portfolio\"\n",
    "      f\" over the next 30 years will end within in the range of\"\n",
    "      f\" ${ci_lower} and ${ci_upper}\")"
   ]
  },
  {
   "cell_type": "code",
   "execution_count": null,
   "metadata": {},
   "outputs": [],
   "source": []
  }
 ],
 "metadata": {
  "kernelspec": {
   "display_name": "Python 3 (ipykernel)",
   "language": "python",
   "name": "python3"
  },
  "language_info": {
   "codemirror_mode": {
    "name": "ipython",
    "version": 3
   },
   "file_extension": ".py",
   "mimetype": "text/x-python",
   "name": "python",
   "nbconvert_exporter": "python",
   "pygments_lexer": "ipython3",
   "version": "3.8.8"
  },
  "nteract": {
   "version": "0.28.0"
  }
 },
 "nbformat": 4,
 "nbformat_minor": 4
}
